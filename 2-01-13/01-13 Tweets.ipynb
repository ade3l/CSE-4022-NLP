{
 "cells": [
  {
   "cell_type": "code",
   "execution_count": 1,
   "id": "ce990273",
   "metadata": {},
   "outputs": [],
   "source": [
    "import nltk"
   ]
  },
  {
   "cell_type": "code",
   "execution_count": 2,
   "id": "04c2154b",
   "metadata": {},
   "outputs": [],
   "source": [
    "from nltk.tokenize import TweetTokenizer"
   ]
  },
  {
   "cell_type": "code",
   "execution_count": 6,
   "id": "ba2eccfb",
   "metadata": {},
   "outputs": [],
   "source": [
    "text = 'The Party was soo fin :D #superfun 🤓'"
   ]
  },
  {
   "cell_type": "code",
   "execution_count": 4,
   "id": "2f6c0cd2",
   "metadata": {},
   "outputs": [],
   "source": [
    "twtkn = TweetTokenizer()"
   ]
  },
  {
   "cell_type": "code",
   "execution_count": 13,
   "id": "73a3c8a8",
   "metadata": {},
   "outputs": [
    {
     "data": {
      "text/plain": [
       "['The', 'Party', 'was', 'soo', 'fin', ':D', '#superfun', '🤓']"
      ]
     },
     "execution_count": 13,
     "metadata": {},
     "output_type": "execute_result"
    }
   ],
   "source": [
    "twtkn.tokenize(text)"
   ]
  },
  {
   "cell_type": "code",
   "execution_count": 10,
   "id": "3049082d",
   "metadata": {},
   "outputs": [
    {
     "data": {
      "text/plain": [
       "['PHONE_WORD_RE',\n",
       " 'WORD_RE',\n",
       " '_PHONE_WORD_RE',\n",
       " '_WORD_RE',\n",
       " '__abstractmethods__',\n",
       " '__class__',\n",
       " '__delattr__',\n",
       " '__dict__',\n",
       " '__dir__',\n",
       " '__doc__',\n",
       " '__eq__',\n",
       " '__format__',\n",
       " '__ge__',\n",
       " '__getattribute__',\n",
       " '__gt__',\n",
       " '__hash__',\n",
       " '__init__',\n",
       " '__init_subclass__',\n",
       " '__le__',\n",
       " '__lt__',\n",
       " '__module__',\n",
       " '__ne__',\n",
       " '__new__',\n",
       " '__reduce__',\n",
       " '__reduce_ex__',\n",
       " '__repr__',\n",
       " '__setattr__',\n",
       " '__sizeof__',\n",
       " '__slots__',\n",
       " '__str__',\n",
       " '__subclasshook__',\n",
       " '__weakref__',\n",
       " '_abc_impl',\n",
       " 'match_phone_numbers',\n",
       " 'preserve_case',\n",
       " 'reduce_len',\n",
       " 'span_tokenize',\n",
       " 'span_tokenize_sents',\n",
       " 'strip_handles',\n",
       " 'tokenize',\n",
       " 'tokenize_sents']"
      ]
     },
     "execution_count": 10,
     "metadata": {},
     "output_type": "execute_result"
    }
   ],
   "source": [
    "dir(twtkn)"
   ]
  },
  {
   "cell_type": "code",
   "execution_count": null,
   "id": "a02fe491",
   "metadata": {},
   "outputs": [],
   "source": []
  }
 ],
 "metadata": {
  "kernelspec": {
   "display_name": "Python 3 (ipykernel)",
   "language": "python",
   "name": "python3"
  },
  "language_info": {
   "codemirror_mode": {
    "name": "ipython",
    "version": 3
   },
   "file_extension": ".py",
   "mimetype": "text/x-python",
   "name": "python",
   "nbconvert_exporter": "python",
   "pygments_lexer": "ipython3",
   "version": "3.9.0"
  }
 },
 "nbformat": 4,
 "nbformat_minor": 5
}
